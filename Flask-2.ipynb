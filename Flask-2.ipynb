{
 "cells": [
  {
   "cell_type": "markdown",
   "id": "83774f4e-4012-4a6f-a2a6-0556bf7fa3f4",
   "metadata": {},
   "source": [
    "## Q1. Explain GET and POST methods.\n",
    "\n",
    "<p> The GET method is used for retrieving data from the server, while the POST method is used for sending data to the server for processing. The choice between GET and POST depends on the type of data being sent and the intended operation. <p>\n",
    "\n"
   ]
  },
  {
   "cell_type": "markdown",
   "id": "707702ce-3436-4f9f-b5c2-ea3ffca36e44",
   "metadata": {},
   "source": [
    "## Q2. Why is request used in Flask?\n",
    "\n",
    "<p> In Flask, the request object is used to access incoming request data submitted by a client (e.g., a web browser) to the server. It provides a way to access various components of the HTTP request such as form data, query parameters, cookies, files uploaded via forms, and more. <p>"
   ]
  },
  {
   "cell_type": "markdown",
   "id": "b3f86fc6-b68d-4324-abb7-38589884cf0f",
   "metadata": {},
   "source": [
    "## Q3. Why is redirect() used in Flask?\n",
    "\n",
    "<p>  In Flask, the redirect() function is used to redirect the client to a different URL. It is particularly useful when you want to direct users to another route or an external URL after certain actions or conditions are met. <p>"
   ]
  },
  {
   "cell_type": "markdown",
   "id": "5d5fe9a8-7843-48a6-8add-7703f36f3be4",
   "metadata": {},
   "source": [
    "## Q4. What are templates in Flask? Why is the render_template() function used?\n",
    "\n",
    "<p> In Flask, templates are used to separate the presentation layer (HTML/CSS) from the application logic (Python code). Templates allow developers to create dynamic web pages by inserting data from the application into predefined HTML structures. This separation of concerns enhances code organization, maintainability, and flexibility. <p>"
   ]
  },
  {
   "cell_type": "markdown",
   "id": "45fdcd22-dcdc-46a2-9c25-c86198adaa7b",
   "metadata": {},
   "source": [
    "## Q5. Create a simple API. Use Postman to test it. Attach the screenshot of the output in the Jupyter Notebook.\n",
    "\n",
    "# Not able to attach SS, its showing error"
   ]
  },
  {
   "cell_type": "code",
   "execution_count": null,
   "id": "55a8fc86-39c1-4fc6-98d0-b47ab4c360a9",
   "metadata": {},
   "outputs": [],
   "source": []
  }
 ],
 "metadata": {
  "kernelspec": {
   "display_name": "Python 3 (ipykernel)",
   "language": "python",
   "name": "python3"
  },
  "language_info": {
   "codemirror_mode": {
    "name": "ipython",
    "version": 3
   },
   "file_extension": ".py",
   "mimetype": "text/x-python",
   "name": "python",
   "nbconvert_exporter": "python",
   "pygments_lexer": "ipython3",
   "version": "3.10.8"
  }
 },
 "nbformat": 4,
 "nbformat_minor": 5
}
